{
 "cells": [
  {
   "cell_type": "markdown",
   "metadata": {},
   "source": [
    "# นางสาว สมิตานัน ชัยนิลพันธุ์ รหัสนิสิต 6241225426"
   ]
  },
  {
   "cell_type": "markdown",
   "metadata": {},
   "source": [
    "# ค่าครองชีพในไทยสูงเกินไปหรือไม่เมื่อเทียบกับค่าแรงขั้นต่ำ"
   ]
  },
  {
   "cell_type": "markdown",
   "metadata": {},
   "source": [
    "# ข้อมูลแหล่งที่มาที่ใช้ในการวิเคราะห์\n",
    " - อัตราค่าจ้างขั้นต่ำในประเทศไทย\n",
    "    https://data.go.th/dataset/wage-rate2563\n",
    " - 10 ปีผ่านไปค่าแรงขั้นค่ำขึ้นแค่ 13-36 บาท\n",
    "    https://workpointtoday.com/wage-5/\n",
    " - ค่าครองชีพในไทย \n",
    "    https://www.prachachat.net/columns/news-834881\n",
    " - ค่าใช้จ่ายของครัวเรือนตั้งแต่ปี พ.ศ.2554-2563\n",
    "    http://statbbi.nso.go.th/staticreport/page/sector/th/08.aspx\n",
    " - Minimum Wage per Month in all countries\n",
    "    https://www-portal-euromonitor-com.chula.idm.oclc.org/portal/statisticsevolution/index\n",
    "\n"
   ]
  },
  {
   "cell_type": "code",
   "execution_count": 1,
   "metadata": {},
   "outputs": [],
   "source": [
    "import pandas as pd\n",
    "import seaborn as sns\n",
    "import matplotlib.pyplot as plt\n",
    "from bs4 import BeautifulSoup\n",
    "import requests\n",
    "import re \n",
    "import io\n",
    "import seaborn as sns"
   ]
  },
  {
   "cell_type": "markdown",
   "metadata": {},
   "source": [
    "# ค่าแรงขั้นต่ำ(min wages)\n",
    "อัตราค่าแรงขั้นต่ำของประเทศไทยได้ถูกปรับขึ้นล่าสุดเมื่อวันที่ 1 ม.ค. 2563"
   ]
  },
  {
   "cell_type": "code",
   "execution_count": 2,
   "metadata": {},
   "outputs": [],
   "source": [
    "mw=pd.read_excel('export_minwage2563.xlsx')"
   ]
  },
  {
   "cell_type": "code",
   "execution_count": 3,
   "metadata": {},
   "outputs": [
    {
     "data": {
      "text/plain": [
       "77"
      ]
     },
     "execution_count": 3,
     "metadata": {},
     "output_type": "execute_result"
    }
   ],
   "source": [
    "len(mw)"
   ]
  },
  {
   "cell_type": "code",
   "execution_count": 4,
   "metadata": {},
   "outputs": [
    {
     "data": {
      "text/html": [
       "<div>\n",
       "<style scoped>\n",
       "    .dataframe tbody tr th:only-of-type {\n",
       "        vertical-align: middle;\n",
       "    }\n",
       "\n",
       "    .dataframe tbody tr th {\n",
       "        vertical-align: top;\n",
       "    }\n",
       "\n",
       "    .dataframe thead th {\n",
       "        text-align: right;\n",
       "    }\n",
       "</style>\n",
       "<table border=\"1\" class=\"dataframe\">\n",
       "  <thead>\n",
       "    <tr style=\"text-align: right;\">\n",
       "      <th></th>\n",
       "      <th>PROVINCE_NAME</th>\n",
       "      <th>LOCATION_CODE</th>\n",
       "      <th>PROV_CODE</th>\n",
       "      <th>MIN_WAGES</th>\n",
       "      <th>YEAR</th>\n",
       "      <th>ANNOUNCE_DD</th>\n",
       "      <th>EFFECT_DD</th>\n",
       "      <th>CREATE_DATE</th>\n",
       "    </tr>\n",
       "  </thead>\n",
       "  <tbody>\n",
       "    <tr>\n",
       "      <th>0</th>\n",
       "      <td>กระบี่</td>\n",
       "      <td>810000</td>\n",
       "      <td>81</td>\n",
       "      <td>325</td>\n",
       "      <td>2563</td>\n",
       "      <td>6 ธ.ค. 62</td>\n",
       "      <td>1 ม.ค. 63</td>\n",
       "      <td>22 ม.ค. 63</td>\n",
       "    </tr>\n",
       "    <tr>\n",
       "      <th>1</th>\n",
       "      <td>กรุงเทพมหานคร</td>\n",
       "      <td>100000</td>\n",
       "      <td>10</td>\n",
       "      <td>331</td>\n",
       "      <td>2563</td>\n",
       "      <td>6 ธ.ค. 62</td>\n",
       "      <td>1 ม.ค. 63</td>\n",
       "      <td>22 ม.ค. 63</td>\n",
       "    </tr>\n",
       "    <tr>\n",
       "      <th>2</th>\n",
       "      <td>กาญจนบุรี</td>\n",
       "      <td>710000</td>\n",
       "      <td>71</td>\n",
       "      <td>320</td>\n",
       "      <td>2563</td>\n",
       "      <td>6 ธ.ค. 62</td>\n",
       "      <td>1 ม.ค. 63</td>\n",
       "      <td>22 ม.ค. 63</td>\n",
       "    </tr>\n",
       "    <tr>\n",
       "      <th>3</th>\n",
       "      <td>กาฬสินธุ์</td>\n",
       "      <td>460000</td>\n",
       "      <td>46</td>\n",
       "      <td>323</td>\n",
       "      <td>2563</td>\n",
       "      <td>6 ธ.ค. 62</td>\n",
       "      <td>1 ม.ค. 63</td>\n",
       "      <td>22 ม.ค. 63</td>\n",
       "    </tr>\n",
       "    <tr>\n",
       "      <th>4</th>\n",
       "      <td>กำแพงเพชร</td>\n",
       "      <td>620000</td>\n",
       "      <td>62</td>\n",
       "      <td>315</td>\n",
       "      <td>2563</td>\n",
       "      <td>6 ธ.ค. 62</td>\n",
       "      <td>1 ม.ค. 63</td>\n",
       "      <td>22 ม.ค. 63</td>\n",
       "    </tr>\n",
       "    <tr>\n",
       "      <th>5</th>\n",
       "      <td>ขอนแก่น</td>\n",
       "      <td>400000</td>\n",
       "      <td>40</td>\n",
       "      <td>325</td>\n",
       "      <td>2563</td>\n",
       "      <td>6 ธ.ค. 62</td>\n",
       "      <td>1 ม.ค. 63</td>\n",
       "      <td>22 ม.ค. 63</td>\n",
       "    </tr>\n",
       "    <tr>\n",
       "      <th>6</th>\n",
       "      <td>จันทบุรี</td>\n",
       "      <td>220000</td>\n",
       "      <td>22</td>\n",
       "      <td>323</td>\n",
       "      <td>2563</td>\n",
       "      <td>6 ธ.ค. 62</td>\n",
       "      <td>1 ม.ค. 63</td>\n",
       "      <td>22 ม.ค. 63</td>\n",
       "    </tr>\n",
       "    <tr>\n",
       "      <th>7</th>\n",
       "      <td>ฉะเชิงเทรา</td>\n",
       "      <td>240000</td>\n",
       "      <td>24</td>\n",
       "      <td>330</td>\n",
       "      <td>2563</td>\n",
       "      <td>6 ธ.ค. 62</td>\n",
       "      <td>1 ม.ค. 63</td>\n",
       "      <td>22 ม.ค. 63</td>\n",
       "    </tr>\n",
       "    <tr>\n",
       "      <th>8</th>\n",
       "      <td>ชลบุรี</td>\n",
       "      <td>200000</td>\n",
       "      <td>20</td>\n",
       "      <td>336</td>\n",
       "      <td>2563</td>\n",
       "      <td>6 ธ.ค. 62</td>\n",
       "      <td>1 ม.ค. 63</td>\n",
       "      <td>22 ม.ค. 63</td>\n",
       "    </tr>\n",
       "    <tr>\n",
       "      <th>9</th>\n",
       "      <td>ชัยนาท</td>\n",
       "      <td>180000</td>\n",
       "      <td>18</td>\n",
       "      <td>320</td>\n",
       "      <td>2563</td>\n",
       "      <td>6 ธ.ค. 62</td>\n",
       "      <td>1 ม.ค. 63</td>\n",
       "      <td>22 ม.ค. 63</td>\n",
       "    </tr>\n",
       "  </tbody>\n",
       "</table>\n",
       "</div>"
      ],
      "text/plain": [
       "   PROVINCE_NAME  LOCATION_CODE  PROV_CODE  MIN_WAGES  YEAR ANNOUNCE_DD  \\\n",
       "0         กระบี่         810000         81        325  2563   6 ธ.ค. 62   \n",
       "1  กรุงเทพมหานคร         100000         10        331  2563   6 ธ.ค. 62   \n",
       "2      กาญจนบุรี         710000         71        320  2563   6 ธ.ค. 62   \n",
       "3      กาฬสินธุ์         460000         46        323  2563   6 ธ.ค. 62   \n",
       "4      กำแพงเพชร         620000         62        315  2563   6 ธ.ค. 62   \n",
       "5        ขอนแก่น         400000         40        325  2563   6 ธ.ค. 62   \n",
       "6       จันทบุรี         220000         22        323  2563   6 ธ.ค. 62   \n",
       "7     ฉะเชิงเทรา         240000         24        330  2563   6 ธ.ค. 62   \n",
       "8         ชลบุรี         200000         20        336  2563   6 ธ.ค. 62   \n",
       "9         ชัยนาท         180000         18        320  2563   6 ธ.ค. 62   \n",
       "\n",
       "   EFFECT_DD CREATE_DATE  \n",
       "0  1 ม.ค. 63  22 ม.ค. 63  \n",
       "1  1 ม.ค. 63  22 ม.ค. 63  \n",
       "2  1 ม.ค. 63  22 ม.ค. 63  \n",
       "3  1 ม.ค. 63  22 ม.ค. 63  \n",
       "4  1 ม.ค. 63  22 ม.ค. 63  \n",
       "5  1 ม.ค. 63  22 ม.ค. 63  \n",
       "6  1 ม.ค. 63  22 ม.ค. 63  \n",
       "7  1 ม.ค. 63  22 ม.ค. 63  \n",
       "8  1 ม.ค. 63  22 ม.ค. 63  \n",
       "9  1 ม.ค. 63  22 ม.ค. 63  "
      ]
     },
     "execution_count": 4,
     "metadata": {},
     "output_type": "execute_result"
    }
   ],
   "source": [
    "mw[:10]"
   ]
  },
  {
   "cell_type": "code",
   "execution_count": 5,
   "metadata": {},
   "outputs": [
    {
     "name": "stdout",
     "output_type": "stream",
     "text": [
      "ข้อมูลที่ต้องการมาคำนวนคือข้อมูลในคอลลัมน์ MIN_WAGES เป็น int64 สามารถนำมาคำนวณได้แล้ว\n",
      "<class 'pandas.core.frame.DataFrame'>\n",
      "RangeIndex: 77 entries, 0 to 76\n",
      "Data columns (total 8 columns):\n",
      " #   Column         Non-Null Count  Dtype \n",
      "---  ------         --------------  ----- \n",
      " 0   PROVINCE_NAME  77 non-null     object\n",
      " 1   LOCATION_CODE  77 non-null     int64 \n",
      " 2   PROV_CODE      77 non-null     int64 \n",
      " 3   MIN_WAGES      77 non-null     int64 \n",
      " 4   YEAR           77 non-null     int64 \n",
      " 5   ANNOUNCE_DD    77 non-null     object\n",
      " 6   EFFECT_DD      77 non-null     object\n",
      " 7   CREATE_DATE    77 non-null     object\n",
      "dtypes: int64(4), object(4)\n",
      "memory usage: 4.9+ KB\n"
     ]
    }
   ],
   "source": [
    "print('ข้อมูลที่ต้องการมาคำนวนคือข้อมูลในคอลลัมน์ MIN_WAGES เป็น int64 สามารถนำมาคำนวณได้แล้ว')\n",
    "mw.info()"
   ]
  },
  {
   "cell_type": "markdown",
   "metadata": {},
   "source": [
    "# หาค่าเฉลี่ยของอัตราค่าจ้างขั้นต่ำของทั้งประเทศ"
   ]
  },
  {
   "cell_type": "code",
   "execution_count": 6,
   "metadata": {},
   "outputs": [
    {
     "name": "stdout",
     "output_type": "stream",
     "text": [
      "avg =  321.09 บาท\n",
      " ทำเป็นทศนิยม 2 ตำแหน่งเพื่อความสะดวกในการอ่านค่า\n"
     ]
    }
   ],
   "source": [
    "avg=mw['MIN_WAGES'].mean()\n",
    "print('avg = ', '{:.2f}'.format(avg),  'บาท')\n",
    "print(' ทำเป็นทศนิยม 2 ตำแหน่งเพื่อความสะดวกในการอ่านค่า')"
   ]
  },
  {
   "cell_type": "code",
   "execution_count": 7,
   "metadata": {},
   "outputs": [
    {
     "data": {
      "text/plain": [
       "Text(0.5, 1.0, 'mean= 321.09')"
      ]
     },
     "execution_count": 7,
     "metadata": {},
     "output_type": "execute_result"
    },
    {
     "data": {
      "image/png": "[encoded data removed]",
      "text/plain": [
       "<Figure size 360x360 with 1 Axes>"
      ]
     },
     "metadata": {
      "needs_background": "light"
     },
     "output_type": "display_data"
    }
   ],
   "source": [
    "mn=mw['MIN_WAGES'].value_counts().mean()\n",
    "sns.displot(x=mw['MIN_WAGES'], color = 'lightgrey')\n",
    "plt.axhline(y=mn, linestyle='--', color='red')\n",
    "plt.title(f\"mean= {mw.MIN_WAGES.mean():.2f}\", color='red')"
   ]
  },
  {
   "cell_type": "markdown",
   "metadata": {},
   "source": [
    "จากกราฟจะเห็นได้ว่าคนจำนวนน้อยที่ได้ค่าแรงขั้นต่ำมากกว่ากว่าค่าแรงขั้นต่ำเฉลี่ยซึ่งค่าแรงขั้นต่ำเฉลี่ยของคนไทยอยู่ที่ 321.09 บาทหรือตกเดือนนึงอยู่ที่ประมาณ 9,630 บาท "
   ]
  },
  {
   "cell_type": "code",
   "execution_count": 8,
   "metadata": {},
   "outputs": [
    {
     "data": {
      "text/plain": [
       "<AxesSubplot:xlabel='MIN_WAGES'>"
      ]
     },
     "execution_count": 8,
     "metadata": {},
     "output_type": "execute_result"
    },
    {
     "data": {
      "image/png": "[encoded data removed]",
      "text/plain": [
       "<Figure size 432x288 with 1 Axes>"
      ]
     },
     "metadata": {
      "needs_background": "light"
     },
     "output_type": "display_data"
    }
   ],
   "source": [
    "sns.violinplot(x=mw['MIN_WAGES'])"
   ]
  },
  {
   "cell_type": "markdown",
   "metadata": {},
   "source": [
    "จากกราฟการกระจายจะเห็นว่าค่าแรงขั้นต่ำของคนในประเทศแต่ละจังหวัดจะอยู่ราวๆที่ 315-320 บาท"
   ]
  },
  {
   "cell_type": "markdown",
   "metadata": {},
   "source": [
    "# ค่าครองชีพ \n",
    "คือ ค่าใช้จ่ายในการดำรงชีวิตประจำวัน เช่น สินค้าอุปโภคบริโภคที่จำเป็นต่อชีวิตประจำวัน ปัจจัย4 อาหาร ผัก เนื้อสัตว์ฯลฯ"
   ]
  },
  {
   "cell_type": "code",
   "execution_count": 9,
   "metadata": {},
   "outputs": [
    {
     "name": "stdout",
     "output_type": "stream",
     "text": [
      "ตารางแสดงค่าครองชีพเฉลี่ยของแต่ละจังหวัดตั้งแต่ปี พ.ศ.2554-2563\n"
     ]
    },
    {
     "data": {
      "text/html": [
       "<div>\n",
       "<style scoped>\n",
       "    .dataframe tbody tr th:only-of-type {\n",
       "        vertical-align: middle;\n",
       "    }\n",
       "\n",
       "    .dataframe tbody tr th {\n",
       "        vertical-align: top;\n",
       "    }\n",
       "\n",
       "    .dataframe thead th {\n",
       "        text-align: right;\n",
       "    }\n",
       "</style>\n",
       "<table border=\"1\" class=\"dataframe\">\n",
       "  <thead>\n",
       "    <tr style=\"text-align: right;\">\n",
       "      <th></th>\n",
       "      <th>y2554</th>\n",
       "      <th>y2555</th>\n",
       "      <th>y2556</th>\n",
       "      <th>y2557</th>\n",
       "      <th>y2558</th>\n",
       "      <th>y2559</th>\n",
       "      <th>y2560</th>\n",
       "      <th>y2561</th>\n",
       "      <th>y2562</th>\n",
       "      <th>y2563</th>\n",
       "    </tr>\n",
       "    <tr>\n",
       "      <th>country</th>\n",
       "      <th></th>\n",
       "      <th></th>\n",
       "      <th></th>\n",
       "      <th></th>\n",
       "      <th></th>\n",
       "      <th></th>\n",
       "      <th></th>\n",
       "      <th></th>\n",
       "      <th></th>\n",
       "      <th></th>\n",
       "    </tr>\n",
       "  </thead>\n",
       "  <tbody>\n",
       "    <tr>\n",
       "      <th>กรุงเทพมหานคร</th>\n",
       "      <td>29969.2</td>\n",
       "      <td>33956.98</td>\n",
       "      <td>35023.7</td>\n",
       "      <td>34425.64</td>\n",
       "      <td>33085.7</td>\n",
       "      <td>35101.40</td>\n",
       "      <td>35350.70</td>\n",
       "      <td>34127.44</td>\n",
       "      <td>31753.04</td>\n",
       "      <td>32052.03</td>\n",
       "    </tr>\n",
       "    <tr>\n",
       "      <th>สมุทรปราการ</th>\n",
       "      <td>20158.2</td>\n",
       "      <td>25860.88</td>\n",
       "      <td>26192.9</td>\n",
       "      <td>22747.21</td>\n",
       "      <td>22331.8</td>\n",
       "      <td>24353.97</td>\n",
       "      <td>24354.72</td>\n",
       "      <td>23231.71</td>\n",
       "      <td>21423.43</td>\n",
       "      <td>23850.82</td>\n",
       "    </tr>\n",
       "    <tr>\n",
       "      <th>นนทบุรี</th>\n",
       "      <td>29099.3</td>\n",
       "      <td>28731.23</td>\n",
       "      <td>26946.6</td>\n",
       "      <td>30812.06</td>\n",
       "      <td>31381.0</td>\n",
       "      <td>28828.37</td>\n",
       "      <td>33313.04</td>\n",
       "      <td>33808.98</td>\n",
       "      <td>32189.09</td>\n",
       "      <td>33042.31</td>\n",
       "    </tr>\n",
       "    <tr>\n",
       "      <th>ปทุมธานี</th>\n",
       "      <td>18993.2</td>\n",
       "      <td>30668.81</td>\n",
       "      <td>29514.0</td>\n",
       "      <td>30197.07</td>\n",
       "      <td>29770.0</td>\n",
       "      <td>31271.04</td>\n",
       "      <td>33604.46</td>\n",
       "      <td>43300.51</td>\n",
       "      <td>37086.11</td>\n",
       "      <td>33823.84</td>\n",
       "    </tr>\n",
       "    <tr>\n",
       "      <th>พระนครศรีอยุธยา</th>\n",
       "      <td>17534.3</td>\n",
       "      <td>25215.89</td>\n",
       "      <td>20493.7</td>\n",
       "      <td>20409.63</td>\n",
       "      <td>22218.1</td>\n",
       "      <td>23095.32</td>\n",
       "      <td>23780.19</td>\n",
       "      <td>22790.08</td>\n",
       "      <td>24439.76</td>\n",
       "      <td>23391.26</td>\n",
       "    </tr>\n",
       "    <tr>\n",
       "      <th>...</th>\n",
       "      <td>...</td>\n",
       "      <td>...</td>\n",
       "      <td>...</td>\n",
       "      <td>...</td>\n",
       "      <td>...</td>\n",
       "      <td>...</td>\n",
       "      <td>...</td>\n",
       "      <td>...</td>\n",
       "      <td>...</td>\n",
       "      <td>...</td>\n",
       "    </tr>\n",
       "    <tr>\n",
       "      <th>ตรัง</th>\n",
       "      <td>22686.6</td>\n",
       "      <td>19617.83</td>\n",
       "      <td>20922.3</td>\n",
       "      <td>17107.10</td>\n",
       "      <td>19794.9</td>\n",
       "      <td>18599.29</td>\n",
       "      <td>18768.44</td>\n",
       "      <td>18648.61</td>\n",
       "      <td>20143.01</td>\n",
       "      <td>17904.52</td>\n",
       "    </tr>\n",
       "    <tr>\n",
       "      <th>พัทลุง</th>\n",
       "      <td>18111.6</td>\n",
       "      <td>18404.19</td>\n",
       "      <td>16635.7</td>\n",
       "      <td>18514.03</td>\n",
       "      <td>17143.3</td>\n",
       "      <td>18420.66</td>\n",
       "      <td>16807.88</td>\n",
       "      <td>15947.09</td>\n",
       "      <td>15848.77</td>\n",
       "      <td>16817.89</td>\n",
       "    </tr>\n",
       "    <tr>\n",
       "      <th>ปัตตานี</th>\n",
       "      <td>14011.7</td>\n",
       "      <td>14119.15</td>\n",
       "      <td>16668.1</td>\n",
       "      <td>14809.34</td>\n",
       "      <td>15341.1</td>\n",
       "      <td>17962.18</td>\n",
       "      <td>16948.61</td>\n",
       "      <td>15705.85</td>\n",
       "      <td>15948.56</td>\n",
       "      <td>14862.49</td>\n",
       "    </tr>\n",
       "    <tr>\n",
       "      <th>ยะลา</th>\n",
       "      <td>14776.7</td>\n",
       "      <td>12883.10</td>\n",
       "      <td>12521.7</td>\n",
       "      <td>12370.15</td>\n",
       "      <td>13453.9</td>\n",
       "      <td>14122.15</td>\n",
       "      <td>15483.63</td>\n",
       "      <td>13301.01</td>\n",
       "      <td>13595.63</td>\n",
       "      <td>14141.04</td>\n",
       "    </tr>\n",
       "    <tr>\n",
       "      <th>นราธิวาส</th>\n",
       "      <td>13901.0</td>\n",
       "      <td>12686.17</td>\n",
       "      <td>13727.8</td>\n",
       "      <td>11985.95</td>\n",
       "      <td>13717.4</td>\n",
       "      <td>13065.80</td>\n",
       "      <td>14980.10</td>\n",
       "      <td>15630.54</td>\n",
       "      <td>14572.65</td>\n",
       "      <td>15126.26</td>\n",
       "    </tr>\n",
       "  </tbody>\n",
       "</table>\n",
       "<p>77 rows × 10 columns</p>\n",
       "</div>"
      ],
      "text/plain": [
       "                   y2554     y2555    y2556     y2557    y2558     y2559  \\\n",
       "country                                                                    \n",
       "กรุงเทพมหานคร    29969.2  33956.98  35023.7  34425.64  33085.7  35101.40   \n",
       "สมุทรปราการ      20158.2  25860.88  26192.9  22747.21  22331.8  24353.97   \n",
       "นนทบุรี          29099.3  28731.23  26946.6  30812.06  31381.0  28828.37   \n",
       "ปทุมธานี         18993.2  30668.81  29514.0  30197.07  29770.0  31271.04   \n",
       "พระนครศรีอยุธยา  17534.3  25215.89  20493.7  20409.63  22218.1  23095.32   \n",
       "...                  ...       ...      ...       ...      ...       ...   \n",
       "ตรัง             22686.6  19617.83  20922.3  17107.10  19794.9  18599.29   \n",
       "พัทลุง           18111.6  18404.19  16635.7  18514.03  17143.3  18420.66   \n",
       "ปัตตานี          14011.7  14119.15  16668.1  14809.34  15341.1  17962.18   \n",
       "ยะลา             14776.7  12883.10  12521.7  12370.15  13453.9  14122.15   \n",
       "นราธิวาส         13901.0  12686.17  13727.8  11985.95  13717.4  13065.80   \n",
       "\n",
       "                    y2560     y2561     y2562     y2563  \n",
       "country                                                  \n",
       "กรุงเทพมหานคร    35350.70  34127.44  31753.04  32052.03  \n",
       "สมุทรปราการ      24354.72  23231.71  21423.43  23850.82  \n",
       "นนทบุรี          33313.04  33808.98  32189.09  33042.31  \n",
       "ปทุมธานี         33604.46  43300.51  37086.11  33823.84  \n",
       "พระนครศรีอยุธยา  23780.19  22790.08  24439.76  23391.26  \n",
       "...                   ...       ...       ...       ...  \n",
       "ตรัง             18768.44  18648.61  20143.01  17904.52  \n",
       "พัทลุง           16807.88  15947.09  15848.77  16817.89  \n",
       "ปัตตานี          16948.61  15705.85  15948.56  14862.49  \n",
       "ยะลา             15483.63  13301.01  13595.63  14141.04  \n",
       "นราธิวาส         14980.10  15630.54  14572.65  15126.26  \n",
       "\n",
       "[77 rows x 10 columns]"
      ]
     },
     "execution_count": 9,
     "metadata": {},
     "output_type": "execute_result"
    }
   ],
   "source": [
    "print('ตารางแสดงค่าครองชีพเฉลี่ยของแต่ละจังหวัดตั้งแต่ปี พ.ศ.2554-2563')\n",
    "ep=pd.read_excel(('ค่าครองชีพ.xlsx'), index_col='country')\n",
    "ep"
   ]
  },
  {
   "cell_type": "code",
   "execution_count": 10,
   "metadata": {},
   "outputs": [
    {
     "data": {
      "text/plain": [
       "17431.84"
      ]
     },
     "execution_count": 10,
     "metadata": {},
     "output_type": "execute_result"
    }
   ],
   "source": [
    "m54 = ep['y2554'].mean().round(2)\n",
    "m55 = ep['y2555'].mean().round(2)\n",
    "m55"
   ]
  },
  {
   "cell_type": "code",
   "execution_count": 11,
   "metadata": {},
   "outputs": [],
   "source": [
    "m56 = ep['y2556'].mean().round(2)\n",
    "m57 = ep['y2557'].mean().round(2)\n",
    "m58 = ep['y2558'].mean().round(2)\n",
    "m59 = ep['y2559'].mean().round(2)\n",
    "m60 = ep['y2560'].mean().round(2)\n",
    "m61 = ep['y2561'].mean().round(2)\n",
    "m62 = ep['y2562'].mean().round(2)\n",
    "m63 = ep['y2563'].mean().round(2)"
   ]
  },
  {
   "cell_type": "markdown",
   "metadata": {},
   "source": [
    "สร้าง DataFrame ของค่าครองชีพเฉลี่ยรวมในแต่ละปีเพื่อทำให้นำไปวิเคราะห์ข้อมูลง่ายขึ้น"
   ]
  },
  {
   "cell_type": "code",
   "execution_count": 12,
   "metadata": {},
   "outputs": [
    {
     "data": {
      "text/plain": [
       "y54    16154.12\n",
       "y55    17431.84\n",
       "y56    17730.96\n",
       "y57    18664.75\n",
       "y58    18981.72\n",
       "y59    18776.70\n",
       "y60    18958.86\n",
       "y61    18764.14\n",
       "y62    18521.37\n",
       "y63    19173.31\n",
       "dtype: float64"
      ]
     },
     "execution_count": 12,
     "metadata": {},
     "output_type": "execute_result"
    }
   ],
   "source": [
    "mn = pd.Series([m54, m55, m56, m57, m58, m59, m60, m61, m62, m63], \n",
    "            index=[['y54','y55','y56','y57','y58','y59','y60','y61','y62','y63']])\n",
    "mn"
   ]
  },
  {
   "cell_type": "code",
   "execution_count": 13,
   "metadata": {},
   "outputs": [
    {
     "data": {
      "text/html": [
       "<div>\n",
       "<style scoped>\n",
       "    .dataframe tbody tr th:only-of-type {\n",
       "        vertical-align: middle;\n",
       "    }\n",
       "\n",
       "    .dataframe tbody tr th {\n",
       "        vertical-align: top;\n",
       "    }\n",
       "\n",
       "    .dataframe thead th {\n",
       "        text-align: right;\n",
       "    }\n",
       "</style>\n",
       "<table border=\"1\" class=\"dataframe\">\n",
       "  <thead>\n",
       "    <tr style=\"text-align: right;\">\n",
       "      <th></th>\n",
       "      <th>mean_per_month</th>\n",
       "    </tr>\n",
       "  </thead>\n",
       "  <tbody>\n",
       "    <tr>\n",
       "      <th>y54</th>\n",
       "      <td>16154.12</td>\n",
       "    </tr>\n",
       "    <tr>\n",
       "      <th>y55</th>\n",
       "      <td>17431.84</td>\n",
       "    </tr>\n",
       "    <tr>\n",
       "      <th>y56</th>\n",
       "      <td>17730.96</td>\n",
       "    </tr>\n",
       "    <tr>\n",
       "      <th>y57</th>\n",
       "      <td>18664.75</td>\n",
       "    </tr>\n",
       "    <tr>\n",
       "      <th>y58</th>\n",
       "      <td>18981.72</td>\n",
       "    </tr>\n",
       "    <tr>\n",
       "      <th>y59</th>\n",
       "      <td>18776.70</td>\n",
       "    </tr>\n",
       "    <tr>\n",
       "      <th>y60</th>\n",
       "      <td>18958.86</td>\n",
       "    </tr>\n",
       "    <tr>\n",
       "      <th>y61</th>\n",
       "      <td>18764.14</td>\n",
       "    </tr>\n",
       "    <tr>\n",
       "      <th>y62</th>\n",
       "      <td>18521.37</td>\n",
       "    </tr>\n",
       "    <tr>\n",
       "      <th>y63</th>\n",
       "      <td>19173.31</td>\n",
       "    </tr>\n",
       "  </tbody>\n",
       "</table>\n",
       "</div>"
      ],
      "text/plain": [
       "     mean_per_month\n",
       "y54        16154.12\n",
       "y55        17431.84\n",
       "y56        17730.96\n",
       "y57        18664.75\n",
       "y58        18981.72\n",
       "y59        18776.70\n",
       "y60        18958.86\n",
       "y61        18764.14\n",
       "y62        18521.37\n",
       "y63        19173.31"
      ]
     },
     "execution_count": 13,
     "metadata": {},
     "output_type": "execute_result"
    }
   ],
   "source": [
    "mnt = pd.concat([mn], axis=1)\n",
    "mnt.columns= ['mean_per_month']\n",
    "mnt"
   ]
  },
  {
   "cell_type": "code",
   "execution_count": 14,
   "metadata": {},
   "outputs": [
    {
     "data": {
      "text/html": [
       "<div>\n",
       "<style scoped>\n",
       "    .dataframe tbody tr th:only-of-type {\n",
       "        vertical-align: middle;\n",
       "    }\n",
       "\n",
       "    .dataframe tbody tr th {\n",
       "        vertical-align: top;\n",
       "    }\n",
       "\n",
       "    .dataframe thead th {\n",
       "        text-align: right;\n",
       "    }\n",
       "</style>\n",
       "<table border=\"1\" class=\"dataframe\">\n",
       "  <thead>\n",
       "    <tr style=\"text-align: right;\">\n",
       "      <th></th>\n",
       "      <th>mean_per_day</th>\n",
       "    </tr>\n",
       "  </thead>\n",
       "  <tbody>\n",
       "    <tr>\n",
       "      <th>y54</th>\n",
       "      <td>538.47</td>\n",
       "    </tr>\n",
       "    <tr>\n",
       "      <th>y55</th>\n",
       "      <td>581.06</td>\n",
       "    </tr>\n",
       "    <tr>\n",
       "      <th>y56</th>\n",
       "      <td>591.03</td>\n",
       "    </tr>\n",
       "    <tr>\n",
       "      <th>y57</th>\n",
       "      <td>622.16</td>\n",
       "    </tr>\n",
       "    <tr>\n",
       "      <th>y58</th>\n",
       "      <td>632.72</td>\n",
       "    </tr>\n",
       "    <tr>\n",
       "      <th>y59</th>\n",
       "      <td>625.89</td>\n",
       "    </tr>\n",
       "    <tr>\n",
       "      <th>y60</th>\n",
       "      <td>631.96</td>\n",
       "    </tr>\n",
       "    <tr>\n",
       "      <th>y61</th>\n",
       "      <td>625.47</td>\n",
       "    </tr>\n",
       "    <tr>\n",
       "      <th>y62</th>\n",
       "      <td>617.38</td>\n",
       "    </tr>\n",
       "    <tr>\n",
       "      <th>y63</th>\n",
       "      <td>639.11</td>\n",
       "    </tr>\n",
       "  </tbody>\n",
       "</table>\n",
       "</div>"
      ],
      "text/plain": [
       "     mean_per_day\n",
       "y54        538.47\n",
       "y55        581.06\n",
       "y56        591.03\n",
       "y57        622.16\n",
       "y58        632.72\n",
       "y59        625.89\n",
       "y60        631.96\n",
       "y61        625.47\n",
       "y62        617.38\n",
       "y63        639.11"
      ]
     },
     "execution_count": 14,
     "metadata": {},
     "output_type": "execute_result"
    }
   ],
   "source": [
    "mnd = pd.concat([mn/30],axis=1)\n",
    "mnd.columns=['mean_per_day']\n",
    "mnd.round(2)"
   ]
  },
  {
   "cell_type": "code",
   "execution_count": 15,
   "metadata": {},
   "outputs": [
    {
     "data": {
      "text/html": [
       "<div>\n",
       "<style scoped>\n",
       "    .dataframe tbody tr th:only-of-type {\n",
       "        vertical-align: middle;\n",
       "    }\n",
       "\n",
       "    .dataframe tbody tr th {\n",
       "        vertical-align: top;\n",
       "    }\n",
       "\n",
       "    .dataframe thead th {\n",
       "        text-align: right;\n",
       "    }\n",
       "</style>\n",
       "<table border=\"1\" class=\"dataframe\">\n",
       "  <thead>\n",
       "    <tr style=\"text-align: right;\">\n",
       "      <th></th>\n",
       "      <th>mean_per_month</th>\n",
       "      <th>mean_per_day</th>\n",
       "    </tr>\n",
       "  </thead>\n",
       "  <tbody>\n",
       "    <tr>\n",
       "      <th>y54</th>\n",
       "      <td>16154.12</td>\n",
       "      <td>538.47</td>\n",
       "    </tr>\n",
       "    <tr>\n",
       "      <th>y55</th>\n",
       "      <td>17431.84</td>\n",
       "      <td>581.06</td>\n",
       "    </tr>\n",
       "    <tr>\n",
       "      <th>y56</th>\n",
       "      <td>17730.96</td>\n",
       "      <td>591.03</td>\n",
       "    </tr>\n",
       "    <tr>\n",
       "      <th>y57</th>\n",
       "      <td>18664.75</td>\n",
       "      <td>622.16</td>\n",
       "    </tr>\n",
       "    <tr>\n",
       "      <th>y58</th>\n",
       "      <td>18981.72</td>\n",
       "      <td>632.72</td>\n",
       "    </tr>\n",
       "    <tr>\n",
       "      <th>y59</th>\n",
       "      <td>18776.70</td>\n",
       "      <td>625.89</td>\n",
       "    </tr>\n",
       "    <tr>\n",
       "      <th>y60</th>\n",
       "      <td>18958.86</td>\n",
       "      <td>631.96</td>\n",
       "    </tr>\n",
       "    <tr>\n",
       "      <th>y61</th>\n",
       "      <td>18764.14</td>\n",
       "      <td>625.47</td>\n",
       "    </tr>\n",
       "    <tr>\n",
       "      <th>y62</th>\n",
       "      <td>18521.37</td>\n",
       "      <td>617.38</td>\n",
       "    </tr>\n",
       "    <tr>\n",
       "      <th>y63</th>\n",
       "      <td>19173.31</td>\n",
       "      <td>639.11</td>\n",
       "    </tr>\n",
       "  </tbody>\n",
       "</table>\n",
       "</div>"
      ],
      "text/plain": [
       "     mean_per_month  mean_per_day\n",
       "y54        16154.12        538.47\n",
       "y55        17431.84        581.06\n",
       "y56        17730.96        591.03\n",
       "y57        18664.75        622.16\n",
       "y58        18981.72        632.72\n",
       "y59        18776.70        625.89\n",
       "y60        18958.86        631.96\n",
       "y61        18764.14        625.47\n",
       "y62        18521.37        617.38\n",
       "y63        19173.31        639.11"
      ]
     },
     "execution_count": 15,
     "metadata": {},
     "output_type": "execute_result"
    }
   ],
   "source": [
    "mep = pd.concat([mnt,mnd.round(2) ],axis=1)\n",
    "mep"
   ]
  },
  {
   "cell_type": "markdown",
   "metadata": {},
   "source": [
    "คำนวณออกมาเป็นค่าครองชีพเฉลี่ยต่อเดือนและต่อวัน"
   ]
  },
  {
   "cell_type": "code",
   "execution_count": 16,
   "metadata": {},
   "outputs": [
    {
     "name": "stdout",
     "output_type": "stream",
     "text": [
      "กราฟแสดงค่าเฉลี่ยของค่าครองชีพในแต่ละปี แสดงให้เห็นว่าค่าครองชีพมีแนวโน้มสูงขึ้นอีกในปีถัดๆไป\n"
     ]
    },
    {
     "data": {
      "text/plain": [
       "<AxesSubplot:>"
      ]
     },
     "execution_count": 16,
     "metadata": {},
     "output_type": "execute_result"
    },
    {
     "data": {
      "image/png": "[encoded data removed]",
      "text/plain": [
       "<Figure size 432x288 with 1 Axes>"
      ]
     },
     "metadata": {
      "needs_background": "light"
     },
     "output_type": "display_data"
    }
   ],
   "source": [
    "print('กราฟแสดงค่าเฉลี่ยของค่าครองชีพในแต่ละปี แสดงให้เห็นว่าค่าครองชีพมีแนวโน้มสูงขึ้นอีกในปีถัดๆไป')\n",
    "mn.plot()"
   ]
  },
  {
   "cell_type": "markdown",
   "metadata": {},
   "source": [
    "# เทียบค่าครองชีพของปี 2562 และ 2563\n",
    "- เนื่องจากเป็นข้อมูลสองปีล่าสุดที่หาได้ สร้างกราฟเพื่อดูแนวโน้มของค่าครองชีพว่าไปในทิศทางใด"
   ]
  },
  {
   "cell_type": "code",
   "execution_count": 17,
   "metadata": {},
   "outputs": [
    {
     "name": "stdout",
     "output_type": "stream",
     "text": [
      "จากกราฟแสดงการเปรียบเทียบค่าครองชีพของปี 2562 และ 2563 จะเห็นได้ว่าค่าเฉลี่ยของค่าครองชีพเพิ่มสูงขึ้น\n",
      "(2,)\n"
     ]
    },
    {
     "data": {
      "text/plain": [
       "<AxesSubplot:xlabel='y2563', ylabel='Count'>"
      ]
     },
     "execution_count": 17,
     "metadata": {},
     "output_type": "execute_result"
    },
    {
     "data": {
      "image/png": "[encoded data removed]",
      "text/plain": [
       "<Figure size 432x288 with 2 Axes>"
      ]
     },
     "metadata": {
      "needs_background": "light"
     },
     "output_type": "display_data"
    }
   ],
   "source": [
    "print('จากกราฟแสดงการเปรียบเทียบค่าครองชีพของปี 2562 และ 2563 จะเห็นได้ว่าค่าเฉลี่ยของค่าครองชีพเพิ่มสูงขึ้น')\n",
    "fig, ax=plt.subplots(1,2, sharey =True, sharex =True)\n",
    "print(ax.shape)\n",
    "sns.histplot(ep['y2562'],ax=ax[0])\n",
    "sns.histplot(ep['y2563'], ax=ax[1],color=\"tomato\")\n",
    "# plt.legend()"
   ]
  },
  {
   "cell_type": "markdown",
   "metadata": {},
   "source": [
    "ค่าครองชีพเฉลี่ยของคนไทยในปี 2563 อยู่ที่ 639.11 บาท ส่วนค่าจ้างขั้นต่ำเฉลี่ยของปี 2563 อยู่ที่ 321.09 บาท จากข้อมูลข้างต้นทำให้เห็นว่าค่าแรงขั้นต่ำของคนไทยไม่เพียงพอต่อค่าครองชีพและมีค่าครองชีพสูงกว่าอัตราค่าแรงเกือบเท่าตัว แล้วส่วนต่างที่ต้องนำมาใช้ก็อาจเกิดจากการกู้ยืมต่างๆซึ่งเป็นการเพิ่มภาระหนี้สิน ค่าแรงขั้นต่ำของไทยเมื่อเทียบกับทั่วโลกอาจดูไม่น้อยกว่าประเทศอื่นแต่เนื่องจากค่าครองชีพสวนทางกับค่าแรงจึงทำให้สรุปได้ว่าไทยมีค่าครองชีพสูงเกินไปเมื่อเทียบกับค่าแรงขั้นต่ำ"
   ]
  },
  {
   "cell_type": "markdown",
   "metadata": {},
   "source": [
    "# อ้างอิงตารางของค่าแรงขั้นต่ำทั่วโลก"
   ]
  },
  {
   "cell_type": "code",
   "execution_count": 18,
   "metadata": {},
   "outputs": [
    {
     "data": {
      "text/html": [
       "<div>\n",
       "<style scoped>\n",
       "    .dataframe tbody tr th:only-of-type {\n",
       "        vertical-align: middle;\n",
       "    }\n",
       "\n",
       "    .dataframe tbody tr th {\n",
       "        vertical-align: top;\n",
       "    }\n",
       "\n",
       "    .dataframe thead th {\n",
       "        text-align: right;\n",
       "    }\n",
       "</style>\n",
       "<table border=\"1\" class=\"dataframe\">\n",
       "  <thead>\n",
       "    <tr style=\"text-align: right;\">\n",
       "      <th></th>\n",
       "      <th>Category</th>\n",
       "      <th>Data Type</th>\n",
       "      <th>Unit</th>\n",
       "      <th>Currency Conversion</th>\n",
       "      <th>Current Constant</th>\n",
       "      <th>2016</th>\n",
       "      <th>2017</th>\n",
       "      <th>2018</th>\n",
       "      <th>2019</th>\n",
       "      <th>2020</th>\n",
       "      <th>2021</th>\n",
       "    </tr>\n",
       "    <tr>\n",
       "      <th>Geography</th>\n",
       "      <th></th>\n",
       "      <th></th>\n",
       "      <th></th>\n",
       "      <th></th>\n",
       "      <th></th>\n",
       "      <th></th>\n",
       "      <th></th>\n",
       "      <th></th>\n",
       "      <th></th>\n",
       "      <th></th>\n",
       "      <th></th>\n",
       "    </tr>\n",
       "  </thead>\n",
       "  <tbody>\n",
       "    <tr>\n",
       "      <th>Afghanistan</th>\n",
       "      <td>Minimum Wage per Month</td>\n",
       "      <td>Socio-economic indicators</td>\n",
       "      <td>USD</td>\n",
       "      <td>Fixed 2021 ex rates</td>\n",
       "      <td>Current Prices</td>\n",
       "      <td>62.4</td>\n",
       "      <td>68.7</td>\n",
       "      <td>68.7</td>\n",
       "      <td>68.7</td>\n",
       "      <td>68.7</td>\n",
       "      <td>68.7</td>\n",
       "    </tr>\n",
       "    <tr>\n",
       "      <th>Armenia</th>\n",
       "      <td>Minimum Wage per Month</td>\n",
       "      <td>Socio-economic indicators</td>\n",
       "      <td>USD</td>\n",
       "      <td>Fixed 2021 ex rates</td>\n",
       "      <td>Current Prices</td>\n",
       "      <td>106.5</td>\n",
       "      <td>106.5</td>\n",
       "      <td>106.5</td>\n",
       "      <td>131.6</td>\n",
       "      <td>131.6</td>\n",
       "      <td>139.4</td>\n",
       "    </tr>\n",
       "    <tr>\n",
       "      <th>Azerbaijan</th>\n",
       "      <td>Minimum Wage per Month</td>\n",
       "      <td>Socio-economic indicators</td>\n",
       "      <td>USD</td>\n",
       "      <td>Fixed 2021 ex rates</td>\n",
       "      <td>Current Prices</td>\n",
       "      <td>61.8</td>\n",
       "      <td>68.2</td>\n",
       "      <td>76.5</td>\n",
       "      <td>147.1</td>\n",
       "      <td>147.1</td>\n",
       "      <td>164.7</td>\n",
       "    </tr>\n",
       "    <tr>\n",
       "      <th>Bangladesh</th>\n",
       "      <td>Minimum Wage per Month</td>\n",
       "      <td>Socio-economic indicators</td>\n",
       "      <td>USD</td>\n",
       "      <td>Fixed 2021 ex rates</td>\n",
       "      <td>Current Prices</td>\n",
       "      <td>62.3</td>\n",
       "      <td>62.3</td>\n",
       "      <td>94.0</td>\n",
       "      <td>94.0</td>\n",
       "      <td>94.0</td>\n",
       "      <td>94.0</td>\n",
       "    </tr>\n",
       "    <tr>\n",
       "      <th>Bhutan</th>\n",
       "      <td>Minimum Wage per Month</td>\n",
       "      <td>Socio-economic indicators</td>\n",
       "      <td>USD</td>\n",
       "      <td>Fixed 2021 ex rates</td>\n",
       "      <td>Current Prices</td>\n",
       "      <td>50.7</td>\n",
       "      <td>50.7</td>\n",
       "      <td>50.7</td>\n",
       "      <td>50.7</td>\n",
       "      <td>50.7</td>\n",
       "      <td>50.7</td>\n",
       "    </tr>\n",
       "    <tr>\n",
       "      <th>...</th>\n",
       "      <td>...</td>\n",
       "      <td>...</td>\n",
       "      <td>...</td>\n",
       "      <td>...</td>\n",
       "      <td>...</td>\n",
       "      <td>...</td>\n",
       "      <td>...</td>\n",
       "      <td>...</td>\n",
       "      <td>...</td>\n",
       "      <td>...</td>\n",
       "      <td>...</td>\n",
       "    </tr>\n",
       "    <tr>\n",
       "      <th>Netherlands</th>\n",
       "      <td>Minimum Wage per Month</td>\n",
       "      <td>Socio-economic indicators</td>\n",
       "      <td>USD</td>\n",
       "      <td>Fixed 2021 ex rates</td>\n",
       "      <td>Current Prices</td>\n",
       "      <td>1818.4</td>\n",
       "      <td>1851.7</td>\n",
       "      <td>1885.8</td>\n",
       "      <td>1934.8</td>\n",
       "      <td>1987.3</td>\n",
       "      <td>2012.1</td>\n",
       "    </tr>\n",
       "    <tr>\n",
       "      <th>Portugal</th>\n",
       "      <td>Minimum Wage per Month</td>\n",
       "      <td>Socio-economic indicators</td>\n",
       "      <td>USD</td>\n",
       "      <td>Fixed 2021 ex rates</td>\n",
       "      <td>Current Prices</td>\n",
       "      <td>731.4</td>\n",
       "      <td>768.7</td>\n",
       "      <td>800.4</td>\n",
       "      <td>828.0</td>\n",
       "      <td>876.3</td>\n",
       "      <td>917.7</td>\n",
       "    </tr>\n",
       "    <tr>\n",
       "      <th>Spain</th>\n",
       "      <td>Minimum Wage per Month</td>\n",
       "      <td>Socio-economic indicators</td>\n",
       "      <td>USD</td>\n",
       "      <td>Fixed 2021 ex rates</td>\n",
       "      <td>Current Prices</td>\n",
       "      <td>904.2</td>\n",
       "      <td>976.7</td>\n",
       "      <td>1015.6</td>\n",
       "      <td>1242.1</td>\n",
       "      <td>1311.0</td>\n",
       "      <td>1311.0</td>\n",
       "    </tr>\n",
       "    <tr>\n",
       "      <th>Turkey</th>\n",
       "      <td>Minimum Wage per Month</td>\n",
       "      <td>Socio-economic indicators</td>\n",
       "      <td>USD</td>\n",
       "      <td>Fixed 2021 ex rates</td>\n",
       "      <td>Current Prices</td>\n",
       "      <td>185.0</td>\n",
       "      <td>199.7</td>\n",
       "      <td>228.0</td>\n",
       "      <td>287.4</td>\n",
       "      <td>330.7</td>\n",
       "      <td>401.9</td>\n",
       "    </tr>\n",
       "    <tr>\n",
       "      <th>United Kingdom</th>\n",
       "      <td>Minimum Wage per Month</td>\n",
       "      <td>Socio-economic indicators</td>\n",
       "      <td>USD</td>\n",
       "      <td>Fixed 2021 ex rates</td>\n",
       "      <td>Current Prices</td>\n",
       "      <td>1640.9</td>\n",
       "      <td>1709.7</td>\n",
       "      <td>1788.1</td>\n",
       "      <td>1870.8</td>\n",
       "      <td>1987.0</td>\n",
       "      <td>2030.3</td>\n",
       "    </tr>\n",
       "  </tbody>\n",
       "</table>\n",
       "<p>165 rows × 11 columns</p>\n",
       "</div>"
      ],
      "text/plain": [
       "                              Category                  Data Type Unit  \\\n",
       "Geography                                                                \n",
       "Afghanistan     Minimum Wage per Month  Socio-economic indicators  USD   \n",
       "Armenia         Minimum Wage per Month  Socio-economic indicators  USD   \n",
       "Azerbaijan      Minimum Wage per Month  Socio-economic indicators  USD   \n",
       "Bangladesh      Minimum Wage per Month  Socio-economic indicators  USD   \n",
       "Bhutan          Minimum Wage per Month  Socio-economic indicators  USD   \n",
       "...                                ...                        ...  ...   \n",
       "Netherlands     Minimum Wage per Month  Socio-economic indicators  USD   \n",
       "Portugal        Minimum Wage per Month  Socio-economic indicators  USD   \n",
       "Spain           Minimum Wage per Month  Socio-economic indicators  USD   \n",
       "Turkey          Minimum Wage per Month  Socio-economic indicators  USD   \n",
       "United Kingdom  Minimum Wage per Month  Socio-economic indicators  USD   \n",
       "\n",
       "                Currency Conversion Current Constant    2016    2017    2018  \\\n",
       "Geography                                                                      \n",
       "Afghanistan     Fixed 2021 ex rates   Current Prices    62.4    68.7    68.7   \n",
       "Armenia         Fixed 2021 ex rates   Current Prices   106.5   106.5   106.5   \n",
       "Azerbaijan      Fixed 2021 ex rates   Current Prices    61.8    68.2    76.5   \n",
       "Bangladesh      Fixed 2021 ex rates   Current Prices    62.3    62.3    94.0   \n",
       "Bhutan          Fixed 2021 ex rates   Current Prices    50.7    50.7    50.7   \n",
       "...                             ...              ...     ...     ...     ...   \n",
       "Netherlands     Fixed 2021 ex rates   Current Prices  1818.4  1851.7  1885.8   \n",
       "Portugal        Fixed 2021 ex rates   Current Prices   731.4   768.7   800.4   \n",
       "Spain           Fixed 2021 ex rates   Current Prices   904.2   976.7  1015.6   \n",
       "Turkey          Fixed 2021 ex rates   Current Prices   185.0   199.7   228.0   \n",
       "United Kingdom  Fixed 2021 ex rates   Current Prices  1640.9  1709.7  1788.1   \n",
       "\n",
       "                  2019    2020    2021  \n",
       "Geography                               \n",
       "Afghanistan       68.7    68.7    68.7  \n",
       "Armenia          131.6   131.6   139.4  \n",
       "Azerbaijan       147.1   147.1   164.7  \n",
       "Bangladesh        94.0    94.0    94.0  \n",
       "Bhutan            50.7    50.7    50.7  \n",
       "...                ...     ...     ...  \n",
       "Netherlands     1934.8  1987.3  2012.1  \n",
       "Portugal         828.0   876.3   917.7  \n",
       "Spain           1242.1  1311.0  1311.0  \n",
       "Turkey           287.4   330.7   401.9  \n",
       "United Kingdom  1870.8  1987.0  2030.3  \n",
       "\n",
       "[165 rows x 11 columns]"
      ]
     },
     "execution_count": 18,
     "metadata": {},
     "output_type": "execute_result"
    }
   ],
   "source": [
    "mww = pd.read_excel('Passport_Stats_21-02-2022_1013_GMT.xls',index_col='Geography')\n",
    "mww"
   ]
  },
  {
   "cell_type": "code",
   "execution_count": 19,
   "metadata": {},
   "outputs": [
    {
     "name": "stdout",
     "output_type": "stream",
     "text": [
      "<class 'pandas.core.frame.DataFrame'>\n",
      "Index: 165 entries, Afghanistan to United Kingdom\n",
      "Data columns (total 11 columns):\n",
      " #   Column               Non-Null Count  Dtype  \n",
      "---  ------               --------------  -----  \n",
      " 0   Category             165 non-null    object \n",
      " 1   Data Type            165 non-null    object \n",
      " 2   Unit                 165 non-null    object \n",
      " 3   Currency Conversion  165 non-null    object \n",
      " 4   Current Constant     165 non-null    object \n",
      " 5   2016                 165 non-null    float64\n",
      " 6   2017                 165 non-null    float64\n",
      " 7   2018                 165 non-null    float64\n",
      " 8   2019                 165 non-null    float64\n",
      " 9   2020                 165 non-null    float64\n",
      " 10  2021                 165 non-null    float64\n",
      "dtypes: float64(6), object(5)\n",
      "memory usage: 15.5+ KB\n"
     ]
    }
   ],
   "source": [
    "for i in range(2016, 2021):\n",
    "    mww[str(i)]=pd.to_numeric(mww[str(i)],errors='coerce')\n",
    "mww.info()"
   ]
  },
  {
   "cell_type": "markdown",
   "metadata": {},
   "source": [
    "เปลี่ยนข้อมูลเป็น float เพื่อนำไปคำนวณหรือทำกราฟต่อ"
   ]
  },
  {
   "cell_type": "code",
   "execution_count": 20,
   "metadata": {},
   "outputs": [
    {
     "data": {
      "text/plain": [
       "2016    243.8\n",
       "2017    247.9\n",
       "2018    264.1\n",
       "2019    269.0\n",
       "2020    269.0\n",
       "2021    273.1\n",
       "Name: Thailand, dtype: float64"
      ]
     },
     "execution_count": 20,
     "metadata": {},
     "output_type": "execute_result"
    }
   ],
   "source": [
    "mwt=mww.drop(columns=['Category','Current Constant','Data Type','Currency Conversion','Unit'])\n",
    "mwt=mwt.loc['Thailand']\n",
    "mwt"
   ]
  },
  {
   "cell_type": "code",
   "execution_count": 21,
   "metadata": {},
   "outputs": [
    {
     "data": {
      "text/plain": [
       "2016    7557.8\n",
       "2017    7684.9\n",
       "2018    8187.1\n",
       "2019    8339.0\n",
       "2020    8339.0\n",
       "2021    8466.1\n",
       "Name: Thailand, dtype: float64"
      ]
     },
     "execution_count": 21,
     "metadata": {},
     "output_type": "execute_result"
    }
   ],
   "source": [
    "mwtct=mwt*31\n",
    "mwtct"
   ]
  },
  {
   "cell_type": "markdown",
   "metadata": {},
   "source": [
    "แปลงหน่วยเงินเป็นบาท"
   ]
  },
  {
   "cell_type": "code",
   "execution_count": 22,
   "metadata": {},
   "outputs": [
    {
     "data": {
      "text/plain": [
       "<AxesSubplot:>"
      ]
     },
     "execution_count": 22,
     "metadata": {},
     "output_type": "execute_result"
    },
    {
     "data": {
      "image/png": "[encoded data removed]",
      "text/plain": [
       "<Figure size 432x288 with 1 Axes>"
      ]
     },
     "metadata": {
      "needs_background": "light"
     },
     "output_type": "display_data"
    }
   ],
   "source": [
    "mwtct.plot()"
   ]
  },
  {
   "cell_type": "markdown",
   "metadata": {},
   "source": [
    "ในข้อมูลล่าสุดจะเห็นว่ากราฟค่าแรงขั้นต่ำของประเทศไทยในช่วงปี 2016-2019 เพิ่มขึ้นอย่างต่อเนื่องแต่คงที่ในปีถัดมาและเพิ่มขึ้นอีกครั้งในปี 2021 แต่ในปริมาณเพียงเล็กน้อย"
   ]
  }
 ],
 "metadata": {
  "interpreter": {
   "hash": "7812ea015bdcee6f23a998adcdd2ef97c151c0c241b7b7070987d9313e41299d"
  },
  "kernelspec": {
   "display_name": "Python 3.9.1 64-bit",
   "language": "python",
   "name": "python3"
  },
  "language_info": {
   "codemirror_mode": {
    "name": "ipython",
    "version": 3
   },
   "file_extension": ".py",
   "mimetype": "text/x-python",
   "name": "python",
   "nbconvert_exporter": "python",
   "pygments_lexer": "ipython3",
   "version": "3.9.1"
  },
  "orig_nbformat": 4
 },
 "nbformat": 4,
 "nbformat_minor": 2
}
